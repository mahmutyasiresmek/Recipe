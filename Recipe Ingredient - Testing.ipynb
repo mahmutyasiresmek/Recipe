{
 "cells": [
  {
   "cell_type": "code",
   "execution_count": 1,
   "id": "73e73bb7",
   "metadata": {},
   "outputs": [
    {
     "name": "stdout",
     "output_type": "stream",
     "text": [
      "Requirement already satisfied: autocorrect in /Users/mesmek/.local/share/virtualenvs/store_time-uHvO0QHa/lib/python3.7/site-packages (2.6.1)\n",
      "Requirement already satisfied: spacy in /Users/mesmek/.local/share/virtualenvs/store_time-uHvO0QHa/lib/python3.7/site-packages (3.2.4)\n",
      "Requirement already satisfied: packaging>=20.0 in /Users/mesmek/.local/share/virtualenvs/store_time-uHvO0QHa/lib/python3.7/site-packages (from spacy) (21.0)\n",
      "Requirement already satisfied: click<8.1.0 in /Users/mesmek/.local/share/virtualenvs/store_time-uHvO0QHa/lib/python3.7/site-packages (from spacy) (7.1.2)\n",
      "Requirement already satisfied: pydantic!=1.8,!=1.8.1,<1.9.0,>=1.7.4 in /Users/mesmek/.local/share/virtualenvs/store_time-uHvO0QHa/lib/python3.7/site-packages (from spacy) (1.8.2)\n",
      "Requirement already satisfied: srsly<3.0.0,>=2.4.1 in /Users/mesmek/.local/share/virtualenvs/store_time-uHvO0QHa/lib/python3.7/site-packages (from spacy) (2.4.3)\n",
      "Requirement already satisfied: setuptools in /Users/mesmek/.local/share/virtualenvs/store_time-uHvO0QHa/lib/python3.7/site-packages (from spacy) (57.0.0)\n",
      "Requirement already satisfied: preshed<3.1.0,>=3.0.2 in /Users/mesmek/.local/share/virtualenvs/store_time-uHvO0QHa/lib/python3.7/site-packages (from spacy) (3.0.6)\n",
      "Requirement already satisfied: wasabi<1.1.0,>=0.8.1 in /Users/mesmek/.local/share/virtualenvs/store_time-uHvO0QHa/lib/python3.7/site-packages (from spacy) (0.9.1)\n",
      "Requirement already satisfied: spacy-legacy<3.1.0,>=3.0.8 in /Users/mesmek/.local/share/virtualenvs/store_time-uHvO0QHa/lib/python3.7/site-packages (from spacy) (3.0.9)\n",
      "Requirement already satisfied: blis<0.8.0,>=0.4.0 in /Users/mesmek/.local/share/virtualenvs/store_time-uHvO0QHa/lib/python3.7/site-packages (from spacy) (0.7.7)\n",
      "Requirement already satisfied: requests<3.0.0,>=2.13.0 in /Users/mesmek/.local/share/virtualenvs/store_time-uHvO0QHa/lib/python3.7/site-packages (from spacy) (2.23.0)\n",
      "Requirement already satisfied: catalogue<2.1.0,>=2.0.6 in /Users/mesmek/.local/share/virtualenvs/store_time-uHvO0QHa/lib/python3.7/site-packages (from spacy) (2.0.7)\n",
      "Requirement already satisfied: spacy-loggers<2.0.0,>=1.0.0 in /Users/mesmek/.local/share/virtualenvs/store_time-uHvO0QHa/lib/python3.7/site-packages (from spacy) (1.0.2)\n",
      "Requirement already satisfied: cymem<2.1.0,>=2.0.2 in /Users/mesmek/.local/share/virtualenvs/store_time-uHvO0QHa/lib/python3.7/site-packages (from spacy) (2.0.6)\n",
      "Requirement already satisfied: langcodes<4.0.0,>=3.2.0 in /Users/mesmek/.local/share/virtualenvs/store_time-uHvO0QHa/lib/python3.7/site-packages (from spacy) (3.3.0)\n",
      "Requirement already satisfied: murmurhash<1.1.0,>=0.28.0 in /Users/mesmek/.local/share/virtualenvs/store_time-uHvO0QHa/lib/python3.7/site-packages (from spacy) (1.0.6)\n",
      "Requirement already satisfied: jinja2 in /Users/mesmek/.local/share/virtualenvs/store_time-uHvO0QHa/lib/python3.7/site-packages (from spacy) (3.0.1)\n",
      "Requirement already satisfied: thinc<8.1.0,>=8.0.12 in /Users/mesmek/.local/share/virtualenvs/store_time-uHvO0QHa/lib/python3.7/site-packages (from spacy) (8.0.15)\n",
      "Requirement already satisfied: pathy>=0.3.5 in /Users/mesmek/.local/share/virtualenvs/store_time-uHvO0QHa/lib/python3.7/site-packages (from spacy) (0.6.1)\n",
      "Requirement already satisfied: typing-extensions<4.0.0.0,>=3.7.4 in /Users/mesmek/.local/share/virtualenvs/store_time-uHvO0QHa/lib/python3.7/site-packages (from spacy) (3.7.4.3)\n",
      "Requirement already satisfied: numpy>=1.15.0 in /Users/mesmek/.local/share/virtualenvs/store_time-uHvO0QHa/lib/python3.7/site-packages (from spacy) (1.19.5)\n",
      "Requirement already satisfied: typer<0.5.0,>=0.3.0 in /Users/mesmek/.local/share/virtualenvs/store_time-uHvO0QHa/lib/python3.7/site-packages (from spacy) (0.4.1)\n",
      "Requirement already satisfied: tqdm<5.0.0,>=4.38.0 in /Users/mesmek/.local/share/virtualenvs/store_time-uHvO0QHa/lib/python3.7/site-packages (from spacy) (4.62.3)\n",
      "Requirement already satisfied: zipp>=0.5 in /Users/mesmek/.local/share/virtualenvs/store_time-uHvO0QHa/lib/python3.7/site-packages (from catalogue<2.1.0,>=2.0.6->spacy) (3.6.0)\n",
      "Requirement already satisfied: pyparsing>=2.0.2 in /Users/mesmek/.local/share/virtualenvs/store_time-uHvO0QHa/lib/python3.7/site-packages (from packaging>=20.0->spacy) (2.4.7)\n",
      "Requirement already satisfied: smart-open<6.0.0,>=5.0.0 in /Users/mesmek/.local/share/virtualenvs/store_time-uHvO0QHa/lib/python3.7/site-packages (from pathy>=0.3.5->spacy) (5.2.1)\n",
      "Requirement already satisfied: chardet<4,>=3.0.2 in /Users/mesmek/.local/share/virtualenvs/store_time-uHvO0QHa/lib/python3.7/site-packages (from requests<3.0.0,>=2.13.0->spacy) (3.0.4)\n",
      "Requirement already satisfied: urllib3!=1.25.0,!=1.25.1,<1.26,>=1.21.1 in /Users/mesmek/.local/share/virtualenvs/store_time-uHvO0QHa/lib/python3.7/site-packages (from requests<3.0.0,>=2.13.0->spacy) (1.25.11)\n",
      "Requirement already satisfied: idna<3,>=2.5 in /Users/mesmek/.local/share/virtualenvs/store_time-uHvO0QHa/lib/python3.7/site-packages (from requests<3.0.0,>=2.13.0->spacy) (2.10)\n",
      "Requirement already satisfied: certifi>=2017.4.17 in /Users/mesmek/.local/share/virtualenvs/store_time-uHvO0QHa/lib/python3.7/site-packages (from requests<3.0.0,>=2.13.0->spacy) (2021.5.30)\n",
      "Requirement already satisfied: MarkupSafe>=2.0 in /Users/mesmek/.local/share/virtualenvs/store_time-uHvO0QHa/lib/python3.7/site-packages (from jinja2->spacy) (2.0.1)\n",
      "Collecting en-core-web-sm==3.2.0\n",
      "  Downloading https://github.com/explosion/spacy-models/releases/download/en_core_web_sm-3.2.0/en_core_web_sm-3.2.0-py3-none-any.whl (13.9 MB)\n",
      "\u001b[K     |████████████████████████████████| 13.9 MB 2.2 MB/s eta 0:00:01\n",
      "\u001b[?25hRequirement already satisfied: spacy<3.3.0,>=3.2.0 in /Users/mesmek/.local/share/virtualenvs/store_time-uHvO0QHa/lib/python3.7/site-packages (from en-core-web-sm==3.2.0) (3.2.4)\n",
      "Requirement already satisfied: requests<3.0.0,>=2.13.0 in /Users/mesmek/.local/share/virtualenvs/store_time-uHvO0QHa/lib/python3.7/site-packages (from spacy<3.3.0,>=3.2.0->en-core-web-sm==3.2.0) (2.23.0)\n",
      "Requirement already satisfied: tqdm<5.0.0,>=4.38.0 in /Users/mesmek/.local/share/virtualenvs/store_time-uHvO0QHa/lib/python3.7/site-packages (from spacy<3.3.0,>=3.2.0->en-core-web-sm==3.2.0) (4.62.3)\n",
      "Requirement already satisfied: spacy-loggers<2.0.0,>=1.0.0 in /Users/mesmek/.local/share/virtualenvs/store_time-uHvO0QHa/lib/python3.7/site-packages (from spacy<3.3.0,>=3.2.0->en-core-web-sm==3.2.0) (1.0.2)\n",
      "Requirement already satisfied: spacy-legacy<3.1.0,>=3.0.8 in /Users/mesmek/.local/share/virtualenvs/store_time-uHvO0QHa/lib/python3.7/site-packages (from spacy<3.3.0,>=3.2.0->en-core-web-sm==3.2.0) (3.0.9)\n",
      "Requirement already satisfied: srsly<3.0.0,>=2.4.1 in /Users/mesmek/.local/share/virtualenvs/store_time-uHvO0QHa/lib/python3.7/site-packages (from spacy<3.3.0,>=3.2.0->en-core-web-sm==3.2.0) (2.4.3)\n",
      "Requirement already satisfied: murmurhash<1.1.0,>=0.28.0 in /Users/mesmek/.local/share/virtualenvs/store_time-uHvO0QHa/lib/python3.7/site-packages (from spacy<3.3.0,>=3.2.0->en-core-web-sm==3.2.0) (1.0.6)\n",
      "Requirement already satisfied: cymem<2.1.0,>=2.0.2 in /Users/mesmek/.local/share/virtualenvs/store_time-uHvO0QHa/lib/python3.7/site-packages (from spacy<3.3.0,>=3.2.0->en-core-web-sm==3.2.0) (2.0.6)\n",
      "Requirement already satisfied: setuptools in /Users/mesmek/.local/share/virtualenvs/store_time-uHvO0QHa/lib/python3.7/site-packages (from spacy<3.3.0,>=3.2.0->en-core-web-sm==3.2.0) (57.0.0)\n",
      "Requirement already satisfied: catalogue<2.1.0,>=2.0.6 in /Users/mesmek/.local/share/virtualenvs/store_time-uHvO0QHa/lib/python3.7/site-packages (from spacy<3.3.0,>=3.2.0->en-core-web-sm==3.2.0) (2.0.7)\n",
      "Requirement already satisfied: preshed<3.1.0,>=3.0.2 in /Users/mesmek/.local/share/virtualenvs/store_time-uHvO0QHa/lib/python3.7/site-packages (from spacy<3.3.0,>=3.2.0->en-core-web-sm==3.2.0) (3.0.6)\n",
      "Requirement already satisfied: langcodes<4.0.0,>=3.2.0 in /Users/mesmek/.local/share/virtualenvs/store_time-uHvO0QHa/lib/python3.7/site-packages (from spacy<3.3.0,>=3.2.0->en-core-web-sm==3.2.0) (3.3.0)\n",
      "Requirement already satisfied: pathy>=0.3.5 in /Users/mesmek/.local/share/virtualenvs/store_time-uHvO0QHa/lib/python3.7/site-packages (from spacy<3.3.0,>=3.2.0->en-core-web-sm==3.2.0) (0.6.1)\n",
      "Requirement already satisfied: jinja2 in /Users/mesmek/.local/share/virtualenvs/store_time-uHvO0QHa/lib/python3.7/site-packages (from spacy<3.3.0,>=3.2.0->en-core-web-sm==3.2.0) (3.0.1)\n",
      "Requirement already satisfied: thinc<8.1.0,>=8.0.12 in /Users/mesmek/.local/share/virtualenvs/store_time-uHvO0QHa/lib/python3.7/site-packages (from spacy<3.3.0,>=3.2.0->en-core-web-sm==3.2.0) (8.0.15)\n",
      "Requirement already satisfied: typing-extensions<4.0.0.0,>=3.7.4 in /Users/mesmek/.local/share/virtualenvs/store_time-uHvO0QHa/lib/python3.7/site-packages (from spacy<3.3.0,>=3.2.0->en-core-web-sm==3.2.0) (3.7.4.3)\n",
      "Requirement already satisfied: pydantic!=1.8,!=1.8.1,<1.9.0,>=1.7.4 in /Users/mesmek/.local/share/virtualenvs/store_time-uHvO0QHa/lib/python3.7/site-packages (from spacy<3.3.0,>=3.2.0->en-core-web-sm==3.2.0) (1.8.2)\n",
      "Requirement already satisfied: click<8.1.0 in /Users/mesmek/.local/share/virtualenvs/store_time-uHvO0QHa/lib/python3.7/site-packages (from spacy<3.3.0,>=3.2.0->en-core-web-sm==3.2.0) (7.1.2)\n",
      "Requirement already satisfied: numpy>=1.15.0 in /Users/mesmek/.local/share/virtualenvs/store_time-uHvO0QHa/lib/python3.7/site-packages (from spacy<3.3.0,>=3.2.0->en-core-web-sm==3.2.0) (1.19.5)\n",
      "Requirement already satisfied: packaging>=20.0 in /Users/mesmek/.local/share/virtualenvs/store_time-uHvO0QHa/lib/python3.7/site-packages (from spacy<3.3.0,>=3.2.0->en-core-web-sm==3.2.0) (21.0)\n",
      "Requirement already satisfied: blis<0.8.0,>=0.4.0 in /Users/mesmek/.local/share/virtualenvs/store_time-uHvO0QHa/lib/python3.7/site-packages (from spacy<3.3.0,>=3.2.0->en-core-web-sm==3.2.0) (0.7.7)\n",
      "Requirement already satisfied: typer<0.5.0,>=0.3.0 in /Users/mesmek/.local/share/virtualenvs/store_time-uHvO0QHa/lib/python3.7/site-packages (from spacy<3.3.0,>=3.2.0->en-core-web-sm==3.2.0) (0.4.1)\n",
      "Requirement already satisfied: wasabi<1.1.0,>=0.8.1 in /Users/mesmek/.local/share/virtualenvs/store_time-uHvO0QHa/lib/python3.7/site-packages (from spacy<3.3.0,>=3.2.0->en-core-web-sm==3.2.0) (0.9.1)\n"
     ]
    },
    {
     "name": "stdout",
     "output_type": "stream",
     "text": [
      "Requirement already satisfied: zipp>=0.5 in /Users/mesmek/.local/share/virtualenvs/store_time-uHvO0QHa/lib/python3.7/site-packages (from catalogue<2.1.0,>=2.0.6->spacy<3.3.0,>=3.2.0->en-core-web-sm==3.2.0) (3.6.0)\n",
      "Requirement already satisfied: pyparsing>=2.0.2 in /Users/mesmek/.local/share/virtualenvs/store_time-uHvO0QHa/lib/python3.7/site-packages (from packaging>=20.0->spacy<3.3.0,>=3.2.0->en-core-web-sm==3.2.0) (2.4.7)\n",
      "Requirement already satisfied: smart-open<6.0.0,>=5.0.0 in /Users/mesmek/.local/share/virtualenvs/store_time-uHvO0QHa/lib/python3.7/site-packages (from pathy>=0.3.5->spacy<3.3.0,>=3.2.0->en-core-web-sm==3.2.0) (5.2.1)\n",
      "Requirement already satisfied: idna<3,>=2.5 in /Users/mesmek/.local/share/virtualenvs/store_time-uHvO0QHa/lib/python3.7/site-packages (from requests<3.0.0,>=2.13.0->spacy<3.3.0,>=3.2.0->en-core-web-sm==3.2.0) (2.10)\n",
      "Requirement already satisfied: certifi>=2017.4.17 in /Users/mesmek/.local/share/virtualenvs/store_time-uHvO0QHa/lib/python3.7/site-packages (from requests<3.0.0,>=2.13.0->spacy<3.3.0,>=3.2.0->en-core-web-sm==3.2.0) (2021.5.30)\n",
      "Requirement already satisfied: urllib3!=1.25.0,!=1.25.1,<1.26,>=1.21.1 in /Users/mesmek/.local/share/virtualenvs/store_time-uHvO0QHa/lib/python3.7/site-packages (from requests<3.0.0,>=2.13.0->spacy<3.3.0,>=3.2.0->en-core-web-sm==3.2.0) (1.25.11)\n",
      "Requirement already satisfied: chardet<4,>=3.0.2 in /Users/mesmek/.local/share/virtualenvs/store_time-uHvO0QHa/lib/python3.7/site-packages (from requests<3.0.0,>=2.13.0->spacy<3.3.0,>=3.2.0->en-core-web-sm==3.2.0) (3.0.4)\n",
      "Requirement already satisfied: MarkupSafe>=2.0 in /Users/mesmek/.local/share/virtualenvs/store_time-uHvO0QHa/lib/python3.7/site-packages (from jinja2->spacy<3.3.0,>=3.2.0->en-core-web-sm==3.2.0) (2.0.1)\n",
      "\u001b[38;5;2m✔ Download and installation successful\u001b[0m\n",
      "You can now load the package via spacy.load('en_core_web_sm')\n"
     ]
    }
   ],
   "source": [
    "#Intalling necessary libraries\n",
    "\n",
    "!pip install autocorrect\n",
    "!pip install spacy\n",
    "!python -m spacy download en_core_web_sm"
   ]
  },
  {
   "cell_type": "code",
   "execution_count": 2,
   "id": "82633f46",
   "metadata": {},
   "outputs": [],
   "source": [
    "#Importing necessary libraries\n",
    "\n",
    "import pandas as pd\n",
    "import numpy as np\n",
    "import spacy\n",
    "import pickle\n",
    "import keras\n",
    "import tensorflow as tf\n",
    "from tensorflow.keras import layers\n",
    "from keras.preprocessing.sequence import pad_sequences\n",
    "from autocorrect import Speller\n",
    "import matplotlib.pyplot as plt\n",
    "%matplotlib inline\n"
   ]
  },
  {
   "cell_type": "code",
   "execution_count": 3,
   "id": "fd8ff05e",
   "metadata": {},
   "outputs": [],
   "source": [
    "nlp = spacy.load('en_core_web_sm', disable=['parser', 'tagger', 'ner'])"
   ]
  },
  {
   "cell_type": "code",
   "execution_count": 4,
   "id": "4581ffe5",
   "metadata": {},
   "outputs": [],
   "source": [
    "MAX_LEN = 400\n",
    "\n",
    "def prepare_sequences(texts, max_len, vocab={\"<UNK>\": 1, \"<PAD>\": 0}):\n",
    "    X = [[vocab.get(w.text, vocab[\"<UNK>\"]) for w in s] for s in texts]\n",
    "    return pad_sequences(maxlen=max_len, sequences=X, padding=\"post\", value=vocab[\"<PAD>\"])\n",
    "\n",
    "def getList(dict):\n",
    "    return dict.keys()\n",
    "      "
   ]
  },
  {
   "cell_type": "code",
   "execution_count": 5,
   "id": "9df7c14c",
   "metadata": {},
   "outputs": [],
   "source": [
    "#Loading the vocabulary of tokens\n",
    "\n",
    "with open('saved_dictionary.pkl', 'rb') as f:\n",
    "    vocab = pickle.load(f)"
   ]
  },
  {
   "cell_type": "code",
   "execution_count": 6,
   "id": "8be3ed45",
   "metadata": {},
   "outputs": [
    {
     "name": "stderr",
     "output_type": "stream",
     "text": [
      "2022-04-24 18:27:48.966678: I tensorflow/core/platform/cpu_feature_guard.cc:142] This TensorFlow binary is optimized with oneAPI Deep Neural Network Library (oneDNN) to use the following CPU instructions in performance-critical operations:  AVX2 FMA\n",
      "To enable them in other operations, rebuild TensorFlow with the appropriate compiler flags.\n"
     ]
    }
   ],
   "source": [
    "#Loading the model\n",
    "\n",
    "new_model = keras.models.load_model('my_model.h5')"
   ]
  },
  {
   "cell_type": "code",
   "execution_count": 7,
   "id": "db86b37f",
   "metadata": {},
   "outputs": [
    {
     "name": "stdout",
     "output_type": "stream",
     "text": [
      "Model: \"sequential\"\n",
      "_________________________________________________________________\n",
      "Layer (type)                 Output Shape              Param #   \n",
      "=================================================================\n",
      "embedding (Embedding)        (None, None, 50)          723100    \n",
      "_________________________________________________________________\n",
      "spatial_dropout1d (SpatialDr (None, None, 50)          0         \n",
      "_________________________________________________________________\n",
      "bidirectional (Bidirectional (None, None, 128)         58880     \n",
      "_________________________________________________________________\n",
      "spatial_dropout1d_1 (Spatial (None, None, 128)         0         \n",
      "_________________________________________________________________\n",
      "bidirectional_1 (Bidirection (None, None, 128)         98816     \n",
      "_________________________________________________________________\n",
      "time_distributed (TimeDistri (None, None, 1)           129       \n",
      "=================================================================\n",
      "Total params: 880,925\n",
      "Trainable params: 880,925\n",
      "Non-trainable params: 0\n",
      "_________________________________________________________________\n"
     ]
    }
   ],
   "source": [
    "new_model.summary()"
   ]
  },
  {
   "cell_type": "code",
   "execution_count": 8,
   "id": "9f5ffbb6",
   "metadata": {},
   "outputs": [],
   "source": [
    "#Inputs are different, at the end I added tomato and potato\n",
    "\n",
    "Recipes = {\n",
    "  \"recipe1\": \"In a large bowl, combine flour, baking powder, baking soda, salt, cinnamon, nutmeg, brown sugar, and  oats. Add apple, nuts, raisins, eggs, milk, and oil.  Mix until dry ingredients are moistened.**Bake for 55 to 60 minutes, or until done.  Cool on wire rack.\",\n",
    "  \"recipe2\": \"In a large bowl, combine flour, baking powder, baking soda, salt, cinnamon, nutmeg, brown sugar, and  oats. Add apple, nuts, raisins, eggs, milk, and oil.  Mix until dry ingredients are moistened.**Bake for 55 to 60 minutes, or until done.  Cool on wire rack. potato tomato\"\n",
    "}"
   ]
  },
  {
   "cell_type": "code",
   "execution_count": 9,
   "id": "4a75190d",
   "metadata": {},
   "outputs": [
    {
     "name": "stdout",
     "output_type": "stream",
     "text": [
      "{'recipe1': 'In a large bowl, combine flour, baking powder, baking soda, salt, cinnamon, nutmeg, brown sugar, and  oats. Add apple, nuts, raisins, eggs, milk, and oil.  Mix until dry ingredients are moistened.**Bake for 55 to 60 minutes, or until done.  Cool on wire rack.', 'recipe2': 'In a large bowl, combine flour, baking powder, baking soda, salt, cinnamon, nutmeg, brown sugar, and  oats. Add apple, nuts, raisins, eggs, milk, and oil.  Mix until dry ingredients are moistened.**Bake for 55 to 60 minutes, or until done.  Cool on wire rack. potato tomato'}\n"
     ]
    }
   ],
   "source": [
    "print(Recipes)"
   ]
  },
  {
   "cell_type": "code",
   "execution_count": 10,
   "id": "adba01e5",
   "metadata": {},
   "outputs": [],
   "source": [
    "keys = getList(Recipes)\n",
    "keys = list(keys)\n",
    "recipe_list = []\n",
    "for key in keys:\n",
    "    recipe = Recipes[key]\n",
    "    recipe_list.append(recipe)"
   ]
  },
  {
   "cell_type": "code",
   "execution_count": 11,
   "id": "204329e3",
   "metadata": {},
   "outputs": [
    {
     "data": {
      "text/plain": [
       "['In a large bowl, combine flour, baking powder, baking soda, salt, cinnamon, nutmeg, brown sugar, and  oats. Add apple, nuts, raisins, eggs, milk, and oil.  Mix until dry ingredients are moistened.**Bake for 55 to 60 minutes, or until done.  Cool on wire rack.',\n",
       " 'In a large bowl, combine flour, baking powder, baking soda, salt, cinnamon, nutmeg, brown sugar, and  oats. Add apple, nuts, raisins, eggs, milk, and oil.  Mix until dry ingredients are moistened.**Bake for 55 to 60 minutes, or until done.  Cool on wire rack. potato tomato']"
      ]
     },
     "execution_count": 11,
     "metadata": {},
     "output_type": "execute_result"
    }
   ],
   "source": [
    "recipe_list"
   ]
  },
  {
   "cell_type": "code",
   "execution_count": 12,
   "id": "886de73b",
   "metadata": {},
   "outputs": [
    {
     "name": "stderr",
     "output_type": "stream",
     "text": [
      "/Users/mesmek/.local/share/virtualenvs/store_time-uHvO0QHa/lib/python3.7/site-packages/spacy/pipeline/lemmatizer.py:211: UserWarning: [W108] The rule-based lemmatizer did not find POS annotation for one or more tokens. Check that your pipeline includes components that assign token.pos, typically 'tagger'+'attribute_ruler' or 'morphologizer'.\n",
      "  warnings.warn(Warnings.W108)\n"
     ]
    }
   ],
   "source": [
    "#Since spell checking increases running time too much, I added spell checked version as a commented lines and\n",
    "#trained without spell checking\n",
    "\n",
    "#eval_tokenized = [nlp(spell(t)) for t in recipe_list]\n",
    "eval_tokenized = [nlp(t) for t in recipe_list]\n",
    "\n",
    "X_seq_deneme = prepare_sequences(eval_tokenized, max_len=MAX_LEN, vocab=vocab)"
   ]
  },
  {
   "cell_type": "code",
   "execution_count": 13,
   "id": "a8f11dad",
   "metadata": {},
   "outputs": [
    {
     "name": "stderr",
     "output_type": "stream",
     "text": [
      "2022-04-24 18:27:51.520486: I tensorflow/compiler/mlir/mlir_graph_optimization_pass.cc:185] None of the MLIR Optimization Passes are enabled (registered 2)\n"
     ]
    },
    {
     "name": "stdout",
     "output_type": "stream",
     "text": [
      "1/1 [==============================] - 4s 4s/step\n"
     ]
    }
   ],
   "source": [
    "#Using saved model for prediction\n",
    "\n",
    "y_pred_deneme = new_model.predict(X_seq_deneme, verbose=1, batch_size=1024)"
   ]
  },
  {
   "cell_type": "code",
   "execution_count": 14,
   "id": "d5473ca5",
   "metadata": {},
   "outputs": [],
   "source": [
    "Output = {}\n",
    "\n",
    "for i in range(len(Recipes)):\n",
    "    pred_i = y_pred_deneme[i] > 0.05\n",
    "    #print(eval_tokenized[i])\n",
    "    #print()\n",
    "    ingreds = [t.text for t, p in zip(eval_tokenized[i], pred_i) if p]\n",
    "    ingreds = set(ingreds)\n",
    "    #print(ingreds)\n",
    "    output_list = []\n",
    "    for j in ingreds:\n",
    "        first = Recipes[keys[i]].find(j)\n",
    "        last = first + len(j)\n",
    "        output_list.append([j,first,last])\n",
    "    Output[keys[i]] = output_list\n",
    "        \n",
    "    "
   ]
  },
  {
   "cell_type": "code",
   "execution_count": 15,
   "id": "cf576fca",
   "metadata": {},
   "outputs": [
    {
     "data": {
      "text/plain": [
       "{'recipe1': [['raisins', 125, 132],\n",
       "  ['eggs', 134, 138],\n",
       "  ['salt', 60, 64],\n",
       "  ['milk', 140, 144],\n",
       "  ['apple', 112, 117],\n",
       "  ['oats', 102, 106],\n",
       "  ['nutmeg', 76, 82],\n",
       "  ['flour', 25, 30],\n",
       "  ['cinnamon', 66, 74],\n",
       "  ['sugar', 90, 95]],\n",
       " 'recipe2': [['potato', 260, 266],\n",
       "  ['raisins', 125, 132],\n",
       "  ['tomato', 267, 273],\n",
       "  ['eggs', 134, 138],\n",
       "  ['salt', 60, 64],\n",
       "  ['milk', 140, 144],\n",
       "  ['apple', 112, 117],\n",
       "  ['oats', 102, 106],\n",
       "  ['nutmeg', 76, 82],\n",
       "  ['flour', 25, 30],\n",
       "  ['cinnamon', 66, 74],\n",
       "  ['sugar', 90, 95]]}"
      ]
     },
     "execution_count": 15,
     "metadata": {},
     "output_type": "execute_result"
    }
   ],
   "source": [
    "Output"
   ]
  },
  {
   "cell_type": "code",
   "execution_count": 16,
   "id": "88d1a8cb",
   "metadata": {},
   "outputs": [
    {
     "name": "stdout",
     "output_type": "stream",
     "text": [
      "{'recipe1': [['raisins', 125, 132], ['eggs', 134, 138], ['salt', 60, 64], ['milk', 140, 144], ['apple', 112, 117], ['oats', 102, 106], ['nutmeg', 76, 82], ['flour', 25, 30], ['cinnamon', 66, 74], ['sugar', 90, 95]], 'recipe2': [['potato', 260, 266], ['raisins', 125, 132], ['tomato', 267, 273], ['eggs', 134, 138], ['salt', 60, 64], ['milk', 140, 144], ['apple', 112, 117], ['oats', 102, 106], ['nutmeg', 76, 82], ['flour', 25, 30], ['cinnamon', 66, 74], ['sugar', 90, 95]]}\n"
     ]
    }
   ],
   "source": [
    "print(Output)"
   ]
  }
 ],
 "metadata": {
  "kernelspec": {
   "display_name": "Python 3 (ipykernel)",
   "language": "python",
   "name": "python3"
  },
  "language_info": {
   "codemirror_mode": {
    "name": "ipython",
    "version": 3
   },
   "file_extension": ".py",
   "mimetype": "text/x-python",
   "name": "python",
   "nbconvert_exporter": "python",
   "pygments_lexer": "ipython3",
   "version": "3.7.9"
  }
 },
 "nbformat": 4,
 "nbformat_minor": 5
}
